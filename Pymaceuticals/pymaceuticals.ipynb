{
 "cells": [
  {
   "attachments": {},
   "cell_type": "markdown",
   "metadata": {},
   "source": [
    "# Pymaceuticals Inc.\n",
    "---\n",
    "\n",
    "### Analysis\n",
    "\n",
    "- While only 4 drug regimens were deep dived, of the 4, Infubinol was the only one with an outlier. This seems to indicate that the other 3 produce more consistent results. However, the existence of that one outlier may indicate that there is something unique about that drug regimen, or the group it was tested on. \n",
    "\n",
    "- As evidenced by the box plot, the drug regimens all generally started at very different tumor volumes. In further statistical analysis, I would create a similar dataframe as the one that listed all the ending tumor volumes, with starting volumes. This should help identify other important factors of the drugs’ efficacies, including time to response, and would allow us to conduct further stastical tests, such as covariance analysis.\n",
    "\n",
    "- Regarding the topic of time to respond, it seems apparent from the line plot of the effects of Capomulin on test subject l509, that Capomulin has about a 20 day time to respond. Once it starts responding however, it significantly reduces tumor volume until about day 35m, at which point it starts to rise again. \n",
    " "
   ]
  },
  {
   "cell_type": "code",
   "execution_count": null,
   "metadata": {},
   "outputs": [],
   "source": [
    "# Dependencies and Setup\n",
    "import matplotlib.pyplot as plt\n",
    "import pandas as pd\n",
    "import scipy.stats as st\n",
    "import numpy as np\n",
    "\n",
    "# Study data files\n",
    "mouse_metadata_path = \"data/Mouse_metadata.csv\"\n",
    "study_results_path = \"data/Study_results.csv\"\n",
    "\n",
    "# Read the mouse data and the study results\n",
    "mouse_metadata = pd.read_csv(mouse_metadata_path)\n",
    "study_results = pd.read_csv(study_results_path)\n",
    "\n",
    "# Combine the data into a single DataFrame\n",
    "mouse_df = pd.merge(study_results, mouse_metadata, on=\"Mouse ID\", how='left')\n",
    "\n",
    "# Display the data table for preview\n",
    "mouse_df.head()"
   ]
  },
  {
   "cell_type": "code",
   "execution_count": null,
   "metadata": {},
   "outputs": [],
   "source": [
    "# Checking the number of mice.\n",
    "print(len(mouse_df['Mouse ID'].unique()))"
   ]
  },
  {
   "cell_type": "code",
   "execution_count": null,
   "metadata": {},
   "outputs": [],
   "source": [
    "# Our data should be uniquely identified by Mouse ID and Timepoint\n",
    "# Get the duplicate mice by ID number that shows up for Mouse ID and Timepoint. \n",
    "dupes = mouse_df[mouse_df.duplicated(subset=['Mouse ID', 'Timepoint'], keep=False)]\n",
    "unique_dupes = dupes['Mouse ID'].unique()\n",
    "unique_dupes_array = np.array(unique_dupes)\n",
    "print(repr(unique_dupes_array))\n",
    "\n"
   ]
  },
  {
   "cell_type": "code",
   "execution_count": null,
   "metadata": {},
   "outputs": [],
   "source": [
    "# Optional: Get all the data for the duplicate mouse ID. \n",
    "dupe_data = mouse_df[mouse_df[\"Mouse ID\"] == 'g989']\n",
    "dupe_data"
   ]
  },
  {
   "cell_type": "code",
   "execution_count": null,
   "metadata": {},
   "outputs": [],
   "source": [
    "# Create a clean DataFrame by dropping the duplicate mouse by its ID.\n",
    "duplicate_mouse_ids = mouse_df[mouse_df.duplicated(subset=['Mouse ID', 'Timepoint'], keep=False)]['Mouse ID'].unique()\n",
    "clean_mouse_df = mouse_df[~mouse_df['Mouse ID'].isin(duplicate_mouse_ids)]\n",
    "clean_mouse_df.head()"
   ]
  },
  {
   "cell_type": "code",
   "execution_count": null,
   "metadata": {},
   "outputs": [],
   "source": [
    "# Checking the number of mice in the clean DataFrame.\n",
    "print(len(clean_mouse_df['Mouse ID'].unique()))"
   ]
  },
  {
   "cell_type": "markdown",
   "metadata": {},
   "source": [
    "## Summary Statistics"
   ]
  },
  {
   "cell_type": "code",
   "execution_count": null,
   "metadata": {},
   "outputs": [],
   "source": [
    "# Generate a summary statistics table of mean, median, variance, standard deviation, and SEM of the tumor volume for each regimen\n",
    "\n",
    "# Use groupby and summary statistical methods to calculate the following properties of each drug regimen: \n",
    "# mean, median, variance, standard deviation, and SEM of the tumor volume. \n",
    "# Assemble the resulting series into a single summary DataFrame.\n",
    "mean_drug_regimen = clean_mouse_df.groupby('Drug Regimen')['Tumor Volume (mm3)'].mean()\n",
    "med_drug_regimen = clean_mouse_df.groupby('Drug Regimen')['Tumor Volume (mm3)'].median()\n",
    "var_drug_regimen = clean_mouse_df.groupby('Drug Regimen')['Tumor Volume (mm3)'].var()\n",
    "std_drug_regimen = clean_mouse_df.groupby('Drug Regimen')['Tumor Volume (mm3)'].std()\n",
    "sem_drug_regimen = clean_mouse_df.groupby('Drug Regimen')['Tumor Volume (mm3)'].sem()\n",
    "\n",
    "# put summary statistics into new dataframe\n",
    "summary_stats = pd.DataFrame({\n",
    "    \"Mean Tumor Volume\": mean_drug_regimen,\n",
    "    \"Median Tumor Volume\": med_drug_regimen,\n",
    "    \"Tumor Volume Variance\": var_drug_regimen,\n",
    "    \"Tumor Volume Std. Dev\": std_drug_regimen,\n",
    "    \"Tumor Volume Std. Err\": sem_drug_regimen\n",
    "})\n",
    "summary_stats"
   ]
  },
  {
   "cell_type": "markdown",
   "metadata": {},
   "source": [
    "## Bar and Pie Charts"
   ]
  },
  {
   "cell_type": "code",
   "execution_count": null,
   "metadata": {},
   "outputs": [],
   "source": [
    "# Generate a bar plot showing the total number of rows (Mouse ID/Timepoints) for each drug regimen using Pandas.\n",
    "\n",
    "drug_count = clean_mouse_df['Drug Regimen'].value_counts()\n",
    "drug_count.plot(kind='bar', figsize=(7,5))\n",
    "plt.ylabel(\"# of Observed Mouse Timestamps\")\n",
    "plt.show()"
   ]
  },
  {
   "cell_type": "code",
   "execution_count": null,
   "metadata": {},
   "outputs": [],
   "source": [
    "# Generate a bar plot showing the total number of rows (Mouse ID/Timepoints) for each drug regimen using pyplot.\n",
    "\n",
    "plt.bar(drug_count.index, drug_count.values)\n",
    "plt.xlabel(\"Drug Regimen\")\n",
    "plt.ylabel(\"# of Observed Mouse Timestamps\")\n",
    "plt.xticks(rotation=90)\n",
    "plt.show()"
   ]
  },
  {
   "cell_type": "code",
   "execution_count": null,
   "metadata": {},
   "outputs": [],
   "source": [
    "# Generate a pie plot showing the distribution of female versus male mice using Pandas\n",
    "\n",
    "gender_count = clean_mouse_df['Sex'].value_counts()\n",
    "gender_count.plot(kind='pie', figsize=(7,5), autopct='%1.1f%%')\n",
    "plt.ylabel(\"Sex\")\n",
    "plt.show()"
   ]
  },
  {
   "cell_type": "code",
   "execution_count": null,
   "metadata": {},
   "outputs": [],
   "source": [
    "# Generate a pie plot showing the distribution of female versus male mice using pyplot\n",
    "\n",
    "plt.pie(gender_count, labels=gender_count.index, autopct='%1.1f%%')\n",
    "plt.ylabel(\"Sex\")\n",
    "plt.show()"
   ]
  },
  {
   "cell_type": "markdown",
   "metadata": {},
   "source": [
    "## Quartiles, Outliers and Boxplots"
   ]
  },
  {
   "cell_type": "code",
   "execution_count": null,
   "metadata": {},
   "outputs": [],
   "source": [
    "# Calculate the final tumor volume of each mouse across four of the treatment regimens:  \n",
    "# Capomulin, Ramicane, Infubinol, and Ceftamin\n",
    "\n",
    "# Start by getting the last (greatest) timepoint for each mouse\n",
    "last_timepoint = clean_mouse_df.groupby('Mouse ID')['Timepoint'].max().reset_index()\n",
    "last_timepoint = last_timepoint.reset_index()\n",
    "\n",
    "# Merge this group df with the original DataFrame to get the tumor volume at the last timepoint\n",
    "final_mouse_df = pd.merge(last_timepoint, clean_mouse_df, on=['Mouse ID', 'Timepoint'], how='left')\n"
   ]
  },
  {
   "cell_type": "code",
   "execution_count": null,
   "metadata": {},
   "outputs": [],
   "source": [
    "# Put treatments into a list for for loop (and later for plot labels)\n",
    "treatments = ['Capomulin', 'Ramicane', 'Infubinol', 'Ceftamin']\n",
    "\n",
    "# Create empty list to fill with tumor vol data (for plotting)\n",
    "final_tumor_volumes = {drug: [] for drug in treatments}\n",
    "\n",
    "for treatment in treatments:\n",
    "    final_volumes = final_mouse_df[final_mouse_df['Drug Regimen'] == treatment]['Tumor Volume (mm3)']\n",
    "    # Append these volumes to the corresponding list in the dictionary\n",
    "    final_tumor_volumes[treatment].extend(final_volumes)\n",
    "\n",
    "# Calculate the IQR and quantitatively determine if there are any potential outliers. \n",
    "for drug in treatments:\n",
    "    volumes = pd.Series(final_tumor_volumes[drug])\n",
    "\n",
    "    quartiles = volumes.quantile([.25, .5, .75])\n",
    "    lowerq = quartiles[0.25]\n",
    "    upperq = quartiles[0.75]\n",
    "    iqr = upperq-lowerq\n",
    "\n",
    "    lower_bound = lowerq - (1.5 * iqr)\n",
    "    upper_bound = upperq + (1.5 * iqr)\n",
    "    \n",
    "    # Determine outliers using upper and lower bounds\n",
    "    outliers = volumes[(volumes < lower_bound) | (volumes > upper_bound)]\n",
    "    print(f\"Potential outliers for {drug}: {outliers}\\n\")\n"
   ]
  },
  {
   "cell_type": "code",
   "execution_count": null,
   "metadata": {},
   "outputs": [],
   "source": [
    "# Generate a box plot that shows the distrubution of the tumor volume for each treatment group.\n",
    "treatments = ['Capomulin', 'Ramicane', 'Infubinol', 'Ceftamin']\n",
    "final_df_filtered = final_mouse_df[final_mouse_df['Drug Regimen'].isin(treatments)]\n",
    "final_df_filtered = final_df_filtered.reset_index()\n",
    "final_df_filtered.boxplot(by='Drug Regimen', column='Tumor Volume (mm3)', grid=False)\n",
    "plt.ylabel('Final Tumor Volume (mm3)')\n",
    "plt.show()\n",
    "\n"
   ]
  },
  {
   "cell_type": "markdown",
   "metadata": {},
   "source": [
    "## Line and Scatter Plots"
   ]
  },
  {
   "cell_type": "code",
   "execution_count": null,
   "metadata": {},
   "outputs": [],
   "source": [
    "# Generate a line plot of tumor volume vs. time point for a single mouse treated with Capomulin\n",
    "single_rat_filtered = clean_mouse_df[clean_mouse_df['Mouse ID'] == 'l509']\n",
    "single_rat_filtered.plot(kind='line', x='Timepoint', y='Tumor Volume (mm3)')\n",
    "plt.xlabel(\"Timepoint (days)\")\n",
    "plt.ylabel(\"Tumor Volume (mm3)\")\n",
    "plt.title(\"Capomulin treatment of mouse l509\")\n",
    "plt.show()"
   ]
  },
  {
   "cell_type": "code",
   "execution_count": null,
   "metadata": {},
   "outputs": [],
   "source": [
    "# Generate a scatter plot of mouse weight vs. the average observed tumor volume for the entire Capomulin regimen\n",
    "\n",
    "# filter for only Capomulin drug regimen\n",
    "capo_filtered = clean_mouse_df[clean_mouse_df['Drug Regimen'] == 'Capomulin']\n",
    "\n",
    "# get averages of tumor volumes for time points\n",
    "capo_avg = capo_filtered.groupby('Mouse ID').agg({'Tumor Volume (mm3)': 'mean', \"Weight (g)\": 'mean'})\n",
    "capo_avg = capo_avg.reset_index()\n",
    "\n",
    "# plot scatter plot and set labels\n",
    "plt.scatter(capo_avg['Weight (g)'], capo_avg['Tumor Volume (mm3)'])\n",
    "plt.xlabel(\"Weight (g)\")\n",
    "plt.ylabel(\"Average Tumor Volume (mm3)\")\n",
    "plt.show()"
   ]
  },
  {
   "cell_type": "markdown",
   "metadata": {},
   "source": [
    "## Correlation and Regression"
   ]
  },
  {
   "cell_type": "code",
   "execution_count": null,
   "metadata": {},
   "outputs": [],
   "source": [
    "# Calculate the correlation coefficient and a linear regression model \n",
    "# for mouse weight and average observed tumor volume for the entire Capomulin regimen\n",
    "\n",
    "# get correlation factors in their own variables and then calculate it\n",
    "weight = capo_avg.iloc[:,2]\n",
    "volume = capo_avg.iloc[:,1]\n",
    "correlation = st.pearsonr(weight, volume)\n",
    "print(f\"The correlation between mouse weight and the average tumor volume is {round(correlation[0],2)}\")\n",
    "\n",
    "# calculate linear regression and add i to the scatter plot\n",
    "v_slope, v_int, v_r, v_p, v_std_err = st.linregress(weight, volume)\n",
    "v_fit = v_slope * weight + v_int\n",
    "plt.scatter(capo_avg['Weight (g)'], capo_avg['Tumor Volume (mm3)'])\n",
    "plt.plot(weight, v_fit,\"--\", color='red')\n",
    "plt.xlabel(\"Weight (g)\")\n",
    "plt.ylabel(\"Average Tumor Volume (mm3)\")\n",
    "plt.show()\n"
   ]
  }
 ],
 "metadata": {
  "anaconda-cloud": {},
  "kernelspec": {
   "display_name": "PythonData",
   "language": "python",
   "name": "python3"
  },
  "language_info": {
   "codemirror_mode": {
    "name": "ipython",
    "version": 3
   },
   "file_extension": ".py",
   "mimetype": "text/x-python",
   "name": "python",
   "nbconvert_exporter": "python",
   "pygments_lexer": "ipython3",
   "version": "3.10.13"
  }
 },
 "nbformat": 4,
 "nbformat_minor": 4
}
